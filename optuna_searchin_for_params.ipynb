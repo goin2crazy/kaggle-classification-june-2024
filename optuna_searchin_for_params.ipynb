{
 "cells": [
  {
   "cell_type": "code",
   "execution_count": 1,
   "id": "dff3bf41",
   "metadata": {
    "_cell_guid": "b1076dfc-b9ad-4769-8c92-a6c4dae69d19",
    "_uuid": "8f2839f25d086af736a60e9eeb907d3b93b6e0e5",
    "execution": {
     "iopub.execute_input": "2024-06-26T22:13:41.160078Z",
     "iopub.status.busy": "2024-06-26T22:13:41.159662Z",
     "iopub.status.idle": "2024-06-26T22:13:45.820769Z",
     "shell.execute_reply": "2024-06-26T22:13:45.819340Z"
    },
    "papermill": {
     "duration": 4.67116,
     "end_time": "2024-06-26T22:13:45.824079",
     "exception": false,
     "start_time": "2024-06-26T22:13:41.152919",
     "status": "completed"
    },
    "tags": []
   },
   "outputs": [
    {
     "name": "stdout",
     "output_type": "stream",
     "text": [
      "/kaggle/input/playground-series-s4e6/sample_submission.csv\n",
      "/kaggle/input/playground-series-s4e6/train.csv\n",
      "/kaggle/input/playground-series-s4e6/test.csv\n"
     ]
    }
   ],
   "source": [
    "# This Python 3 environment comes with many helpful analytics libraries installed\n",
    "# It is defined by the kaggle/python Docker image: https://github.com/kaggle/docker-python\n",
    "# For example, here's several helpful packages to load\n",
    "\n",
    "import numpy as np # linear algebra\n",
    "import pandas as pd # data processing, CSV file I/O (e.g. pd.read_csv)\n",
    "\n",
    "# Input data files are available in the read-only \"../input/\" directory\n",
    "# For example, running this (by clicking run or pressing Shift+Enter) will list all files under the input directory\n",
    "\n",
    "import os\n",
    "for dirname, _, filenames in os.walk('/kaggle/input'):\n",
    "    for filename in filenames:\n",
    "        print(os.path.join(dirname, filename))\n",
    "\n",
    "# You can write up to 20GB to the current directory (/kaggle/working/) that gets preserved as output when you create a version using \"Save & Run All\" \n",
    "# You can also write temporary files to /kaggle/temp/, but they won't be saved outside of the current session\n",
    "\n",
    "# ml\n",
    "from lightgbm import LGBMClassifier\n",
    "\n",
    "\n",
    "# split data\n",
    "from sklearn.model_selection import (KFold, \n",
    "                                     cross_val_score, \n",
    "                                     train_test_split)\n",
    "# evaluate\n",
    "from sklearn.metrics import accuracy_score\n",
    "\n",
    "# optimization\n",
    "import optuna\n",
    "\n",
    "import warnings\n",
    "warnings.filterwarnings('ignore')"
   ]
  },
  {
   "cell_type": "code",
   "execution_count": 2,
   "id": "4f71c79c",
   "metadata": {
    "execution": {
     "iopub.execute_input": "2024-06-26T22:13:45.837799Z",
     "iopub.status.busy": "2024-06-26T22:13:45.836873Z",
     "iopub.status.idle": "2024-06-26T22:13:45.848663Z",
     "shell.execute_reply": "2024-06-26T22:13:45.847371Z"
    },
    "papermill": {
     "duration": 0.021647,
     "end_time": "2024-06-26T22:13:45.851468",
     "exception": false,
     "start_time": "2024-06-26T22:13:45.829821",
     "status": "completed"
    },
    "tags": []
   },
   "outputs": [],
   "source": [
    "class Config: \n",
    "    train_path=  '/kaggle/input/playground-series-s4e6/train.csv'\n",
    "    test_path = '/kaggle/input/playground-series-s4e6/test.csv'\n",
    "\n",
    "    train_test_split = 0.1\n",
    "    # cat - categorical\n",
    "    # nocat - not categorical\n",
    "    input_columns_params = {\n",
    "        \"Marital status\": 'cat', \n",
    "        'Application mode': 'nocat', \n",
    "        'Application order': 'nocat', \n",
    "        'Course': 'nocat', \n",
    "        'Daytime/evening attendance': 'cat', \n",
    "        'Previous qualification': 'nocat', \n",
    "        'Previous qualification (grade)': 'nocat', \n",
    "        'Nacionality': 'cat', \n",
    "        \"Mother's qualification\": 'nocat', \n",
    "        \"Father's qualification\": 'nocat', \n",
    "        \"Mother's occupation\": \"cat\", \n",
    "        \"Father's occupation\": 'cat', \n",
    "        'Admission grade': 'nocat',  \n",
    "        'Educational special needs': 'cat', \n",
    "        'Debtor': 'cat', \n",
    "        \"Tuition fees up to date\": 'cat', \n",
    "        'Gender': 'cat', \n",
    "        'Scholarship holder': 'cat', \n",
    "        'Age at enrollment': 'nocat', \n",
    "        'International': 'cat', \n",
    "        'Curricular units 1st sem (credited)': 'cat',\n",
    "        'Curricular units 1st sem (enrolled)': 'cat',\n",
    "        'Curricular units 1st sem (evaluations)': 'nocat',\n",
    "        'Curricular units 1st sem (approved)': 'cat',\n",
    "        'Curricular units 1st sem (grade)': 'nocat',\n",
    "        'Curricular units 1st sem (without evaluations)': 'nocat',\n",
    "\n",
    "        'Curricular units 2nd sem (credited)': 'cat',\n",
    "        'Curricular units 2nd sem (enrolled)': 'cat',\n",
    "        'Curricular units 2nd sem (evaluations)': 'nocat',\n",
    "        'Curricular units 2nd sem (approved)': 'cat',\n",
    "        'Curricular units 2nd sem (grade)': 'nocat',\n",
    "        'Curricular units 2nd sem (without evaluations)': 'nocat',\n",
    "        'Unemployment rate': 'nocat', \n",
    "        'Inflation rate': 'nocat', \n",
    "        'GDP': 'nocat', \n",
    "    }\n",
    "\n",
    "    output_columns_params = {\"Target\": 'cat'}\n",
    "    \n",
    "cfg= Config() "
   ]
  },
  {
   "cell_type": "code",
   "execution_count": 3,
   "id": "5263364e",
   "metadata": {
    "execution": {
     "iopub.execute_input": "2024-06-26T22:13:45.863840Z",
     "iopub.status.busy": "2024-06-26T22:13:45.862253Z",
     "iopub.status.idle": "2024-06-26T22:13:46.666675Z",
     "shell.execute_reply": "2024-06-26T22:13:46.665490Z"
    },
    "papermill": {
     "duration": 0.813078,
     "end_time": "2024-06-26T22:13:46.669349",
     "exception": false,
     "start_time": "2024-06-26T22:13:45.856271",
     "status": "completed"
    },
    "tags": []
   },
   "outputs": [
    {
     "data": {
      "text/html": [
       "<div>\n",
       "<style scoped>\n",
       "    .dataframe tbody tr th:only-of-type {\n",
       "        vertical-align: middle;\n",
       "    }\n",
       "\n",
       "    .dataframe tbody tr th {\n",
       "        vertical-align: top;\n",
       "    }\n",
       "\n",
       "    .dataframe thead th {\n",
       "        text-align: right;\n",
       "    }\n",
       "</style>\n",
       "<table border=\"1\" class=\"dataframe\">\n",
       "  <thead>\n",
       "    <tr style=\"text-align: right;\">\n",
       "      <th></th>\n",
       "      <th>id</th>\n",
       "      <th>Marital status</th>\n",
       "      <th>Application mode</th>\n",
       "      <th>Application order</th>\n",
       "      <th>Course</th>\n",
       "      <th>Daytime/evening attendance</th>\n",
       "      <th>Previous qualification</th>\n",
       "      <th>Previous qualification (grade)</th>\n",
       "      <th>Nacionality</th>\n",
       "      <th>Mother's qualification</th>\n",
       "      <th>...</th>\n",
       "      <th>Curricular units 2nd sem (credited)</th>\n",
       "      <th>Curricular units 2nd sem (enrolled)</th>\n",
       "      <th>Curricular units 2nd sem (evaluations)</th>\n",
       "      <th>Curricular units 2nd sem (approved)</th>\n",
       "      <th>Curricular units 2nd sem (grade)</th>\n",
       "      <th>Curricular units 2nd sem (without evaluations)</th>\n",
       "      <th>Unemployment rate</th>\n",
       "      <th>Inflation rate</th>\n",
       "      <th>GDP</th>\n",
       "      <th>Target</th>\n",
       "    </tr>\n",
       "  </thead>\n",
       "  <tbody>\n",
       "    <tr>\n",
       "      <th>0</th>\n",
       "      <td>0</td>\n",
       "      <td>1</td>\n",
       "      <td>1</td>\n",
       "      <td>1</td>\n",
       "      <td>9238</td>\n",
       "      <td>1</td>\n",
       "      <td>1</td>\n",
       "      <td>126.0</td>\n",
       "      <td>1</td>\n",
       "      <td>1</td>\n",
       "      <td>...</td>\n",
       "      <td>0</td>\n",
       "      <td>6</td>\n",
       "      <td>7</td>\n",
       "      <td>6</td>\n",
       "      <td>12.428571</td>\n",
       "      <td>0</td>\n",
       "      <td>11.1</td>\n",
       "      <td>0.6</td>\n",
       "      <td>2.02</td>\n",
       "      <td>Graduate</td>\n",
       "    </tr>\n",
       "    <tr>\n",
       "      <th>1</th>\n",
       "      <td>1</td>\n",
       "      <td>1</td>\n",
       "      <td>17</td>\n",
       "      <td>1</td>\n",
       "      <td>9238</td>\n",
       "      <td>1</td>\n",
       "      <td>1</td>\n",
       "      <td>125.0</td>\n",
       "      <td>1</td>\n",
       "      <td>19</td>\n",
       "      <td>...</td>\n",
       "      <td>0</td>\n",
       "      <td>6</td>\n",
       "      <td>9</td>\n",
       "      <td>0</td>\n",
       "      <td>0.000000</td>\n",
       "      <td>0</td>\n",
       "      <td>11.1</td>\n",
       "      <td>0.6</td>\n",
       "      <td>2.02</td>\n",
       "      <td>Dropout</td>\n",
       "    </tr>\n",
       "    <tr>\n",
       "      <th>2</th>\n",
       "      <td>2</td>\n",
       "      <td>1</td>\n",
       "      <td>17</td>\n",
       "      <td>2</td>\n",
       "      <td>9254</td>\n",
       "      <td>1</td>\n",
       "      <td>1</td>\n",
       "      <td>137.0</td>\n",
       "      <td>1</td>\n",
       "      <td>3</td>\n",
       "      <td>...</td>\n",
       "      <td>0</td>\n",
       "      <td>6</td>\n",
       "      <td>0</td>\n",
       "      <td>0</td>\n",
       "      <td>0.000000</td>\n",
       "      <td>0</td>\n",
       "      <td>16.2</td>\n",
       "      <td>0.3</td>\n",
       "      <td>-0.92</td>\n",
       "      <td>Dropout</td>\n",
       "    </tr>\n",
       "    <tr>\n",
       "      <th>3</th>\n",
       "      <td>3</td>\n",
       "      <td>1</td>\n",
       "      <td>1</td>\n",
       "      <td>3</td>\n",
       "      <td>9500</td>\n",
       "      <td>1</td>\n",
       "      <td>1</td>\n",
       "      <td>131.0</td>\n",
       "      <td>1</td>\n",
       "      <td>19</td>\n",
       "      <td>...</td>\n",
       "      <td>0</td>\n",
       "      <td>8</td>\n",
       "      <td>11</td>\n",
       "      <td>7</td>\n",
       "      <td>12.820000</td>\n",
       "      <td>0</td>\n",
       "      <td>11.1</td>\n",
       "      <td>0.6</td>\n",
       "      <td>2.02</td>\n",
       "      <td>Enrolled</td>\n",
       "    </tr>\n",
       "    <tr>\n",
       "      <th>4</th>\n",
       "      <td>4</td>\n",
       "      <td>1</td>\n",
       "      <td>1</td>\n",
       "      <td>2</td>\n",
       "      <td>9500</td>\n",
       "      <td>1</td>\n",
       "      <td>1</td>\n",
       "      <td>132.0</td>\n",
       "      <td>1</td>\n",
       "      <td>19</td>\n",
       "      <td>...</td>\n",
       "      <td>0</td>\n",
       "      <td>7</td>\n",
       "      <td>12</td>\n",
       "      <td>6</td>\n",
       "      <td>12.933333</td>\n",
       "      <td>0</td>\n",
       "      <td>7.6</td>\n",
       "      <td>2.6</td>\n",
       "      <td>0.32</td>\n",
       "      <td>Graduate</td>\n",
       "    </tr>\n",
       "  </tbody>\n",
       "</table>\n",
       "<p>5 rows × 38 columns</p>\n",
       "</div>"
      ],
      "text/plain": [
       "   id  Marital status  Application mode  Application order  Course  \\\n",
       "0   0               1                 1                  1    9238   \n",
       "1   1               1                17                  1    9238   \n",
       "2   2               1                17                  2    9254   \n",
       "3   3               1                 1                  3    9500   \n",
       "4   4               1                 1                  2    9500   \n",
       "\n",
       "   Daytime/evening attendance  Previous qualification  \\\n",
       "0                           1                       1   \n",
       "1                           1                       1   \n",
       "2                           1                       1   \n",
       "3                           1                       1   \n",
       "4                           1                       1   \n",
       "\n",
       "   Previous qualification (grade)  Nacionality  Mother's qualification  ...  \\\n",
       "0                           126.0            1                       1  ...   \n",
       "1                           125.0            1                      19  ...   \n",
       "2                           137.0            1                       3  ...   \n",
       "3                           131.0            1                      19  ...   \n",
       "4                           132.0            1                      19  ...   \n",
       "\n",
       "   Curricular units 2nd sem (credited)  Curricular units 2nd sem (enrolled)  \\\n",
       "0                                    0                                    6   \n",
       "1                                    0                                    6   \n",
       "2                                    0                                    6   \n",
       "3                                    0                                    8   \n",
       "4                                    0                                    7   \n",
       "\n",
       "   Curricular units 2nd sem (evaluations)  \\\n",
       "0                                       7   \n",
       "1                                       9   \n",
       "2                                       0   \n",
       "3                                      11   \n",
       "4                                      12   \n",
       "\n",
       "   Curricular units 2nd sem (approved)  Curricular units 2nd sem (grade)  \\\n",
       "0                                    6                         12.428571   \n",
       "1                                    0                          0.000000   \n",
       "2                                    0                          0.000000   \n",
       "3                                    7                         12.820000   \n",
       "4                                    6                         12.933333   \n",
       "\n",
       "   Curricular units 2nd sem (without evaluations)  Unemployment rate  \\\n",
       "0                                               0               11.1   \n",
       "1                                               0               11.1   \n",
       "2                                               0               16.2   \n",
       "3                                               0               11.1   \n",
       "4                                               0                7.6   \n",
       "\n",
       "   Inflation rate   GDP    Target  \n",
       "0             0.6  2.02  Graduate  \n",
       "1             0.6  2.02   Dropout  \n",
       "2             0.3 -0.92   Dropout  \n",
       "3             0.6  2.02  Enrolled  \n",
       "4             2.6  0.32  Graduate  \n",
       "\n",
       "[5 rows x 38 columns]"
      ]
     },
     "execution_count": 3,
     "metadata": {},
     "output_type": "execute_result"
    }
   ],
   "source": [
    "df = pd.read_csv(cfg.train_path)\n",
    "test_df = pd.read_csv(cfg.test_path)\n",
    "df.head()"
   ]
  },
  {
   "cell_type": "code",
   "execution_count": 4,
   "id": "aab84dea",
   "metadata": {
    "execution": {
     "iopub.execute_input": "2024-06-26T22:13:46.682115Z",
     "iopub.status.busy": "2024-06-26T22:13:46.681651Z",
     "iopub.status.idle": "2024-06-26T22:13:46.699334Z",
     "shell.execute_reply": "2024-06-26T22:13:46.698082Z"
    },
    "papermill": {
     "duration": 0.027398,
     "end_time": "2024-06-26T22:13:46.702266",
     "exception": false,
     "start_time": "2024-06-26T22:13:46.674868",
     "status": "completed"
    },
    "tags": []
   },
   "outputs": [],
   "source": [
    "\n",
    "def add_economic_interaction_features(df):    \n",
    "    df['Economic_interaction_add'] = df['Unemployment rate'] * df['Inflation rate'] * df['GDP']\n",
    "    df['Economic_interaction_add'] = df['Unemployment rate'] + df['Inflation rate'] + df['GDP']\n",
    "    df['Economic_interaction_sub'] = df['Unemployment rate'] - df['Inflation rate'] - df['GDP']  \n",
    "    df['Economic_interaction_div1'] = df['Unemployment rate'] / (df['Inflation rate'] + 1e-6)\n",
    "    #df['Economic_interaction_div2'] = df['Inflation rate'] / (df['GDP'] + 1e-6)\n",
    "    #df['Economic_interaction_div3'] = df['GDP'] / (df['Unemployment rate'] + 1e-6)   \n",
    "    df['Economic_interaction_comb1'] = (df['Unemployment rate'] + df['Inflation rate']) * df['GDP']\n",
    "    df['Economic_interaction_comb2'] = (df['Unemployment rate'] * df['Inflation rate']) + df['GDP']\n",
    "    df['Economic_interaction_exp1'] = df['Unemployment rate'] * df['Inflation rate']\n",
    "    df['Economic_interaction_exp2'] = df['GDP'] * df['Unemployment rate']\n",
    "    df['Economic_interaction_exp3'] = df['GDP'] * df['Inflation rate']\n",
    "    #df['Economic_interaction_log1'] = np.log1p(df['Unemployment rate']) + np.log1p(df['Inflation rate']) + np.log1p(df['GDP'])\n",
    "    #df['Economic_interaction'] = (df['Unemployment rate'] * df['Inflation rate'] * df['GDP'])\n",
    "    #df['Economic_interaction_sqrt1'] = np.sqrt(df['Unemployment rate']) + np.sqrt(df['Inflation rate']) + np.sqrt(df['GDP'])\n",
    "   # df['Economic_interaction_sqrt2'] = np.sqrt(df['Unemployment rate'] * df['Inflation rate'] * df['GDP'])\n",
    "    #df['Economic_interaction_poly1'] = df['Unemployment rate']**2 + df['Inflation rate']**2 + df['GDP']**2\n",
    "    #df['Economic_interaction_poly2'] = (df['Unemployment rate'] * df['Inflation rate']) + (df['Inflation rate'] * df['GDP']) + (df['GDP'] * df['Unemployment rate'])\n",
    "    return df     \n",
    "\n",
    "\n",
    "def add_curriculum_interaction_features(df):\n",
    "    df['Curriculum_interaction_1st_sem'] = df['Curricular units 1st sem (credited)'] * df['Curricular units 1st sem (enrolled)'] * df['Curricular units 1st sem (evaluations)'] * df['Curricular units 1st sem (approved)']\n",
    "    df['Curriculum_interaction_2nd_sem'] = df['Curricular units 2nd sem (credited)'] * df['Curricular units 2nd sem (enrolled)'] * df['Curricular units 2nd sem (evaluations)'] * df['Curricular units 2nd sem (approved)']\n",
    "\n",
    "def add_grade_interaction_features(df):\n",
    "    df['Grade_interaction_1st_sem'] = df['Admission grade'] * df['Curricular units 1st sem (grade)']\n",
    "    df['Grade_interaction_2nd_sem'] = df['Admission grade'] * df['Curricular units 2nd sem (grade)']\n",
    "\n",
    "def add_qualification_interaction_features(df):\n",
    "    df['Qualification_interaction'] = df['Previous qualification'] * df['Admission grade']\n",
    "    df['Course_interaction'] = df['Previous qualification'] * df['Course']\n",
    "    \n",
    "def add_occupation_interaction_features(df):\n",
    "    df[\"Occupation_interaction\"] = df[\"Mother's occupation\"] * df[\"Father's occupation\"]\n",
    "\n",
    "def add_enrollment_evaluation_interaction_features(df):\n",
    "    df['Enrollment_evaluation_interaction_1st_sem'] = df['Curricular units 1st sem (enrolled)'] * df['Curricular units 1st sem (evaluations)']\n",
    "    df['Enrollment_evaluation_interaction_2nd_sem'] = df['Curricular units 2nd sem (enrolled)'] * df['Curricular units 2nd sem (evaluations)']\n",
    "\n",
    "def add_gender_marital_interaction_features(df):\n",
    "    df['Gender_marital_interaction'] = df['Gender'] * df['Marital status']\n",
    "\n",
    "def add_tuition_scholarship_interaction_features(df):\n",
    "    df['Tuition_scholarship_interaction'] = df['Tuition fees up to date'] * df['Scholarship holder']    "
   ]
  },
  {
   "cell_type": "code",
   "execution_count": 5,
   "id": "4693113f",
   "metadata": {
    "execution": {
     "iopub.execute_input": "2024-06-26T22:13:46.716663Z",
     "iopub.status.busy": "2024-06-26T22:13:46.716209Z",
     "iopub.status.idle": "2024-06-26T22:13:46.725648Z",
     "shell.execute_reply": "2024-06-26T22:13:46.724291Z"
    },
    "papermill": {
     "duration": 0.020758,
     "end_time": "2024-06-26T22:13:46.728362",
     "exception": false,
     "start_time": "2024-06-26T22:13:46.707604",
     "status": "completed"
    },
    "tags": []
   },
   "outputs": [],
   "source": [
    "\n",
    "def feature_engineer_train(df_train):    \n",
    "    #df_train = handle_skewed_columns(df_train)   \n",
    "    \n",
    "    add_curriculum_interaction_features(df_train)\n",
    "    add_grade_interaction_features(df_train)\n",
    "#     add_age_interaction_features(df_train)\n",
    "    add_economic_interaction_features(df_train)\n",
    "    add_qualification_interaction_features(df_train)\n",
    "    add_occupation_interaction_features(df_train)\n",
    "    add_enrollment_evaluation_interaction_features(df_train)\n",
    "    add_gender_marital_interaction_features(df_train)\n",
    "    add_tuition_scholarship_interaction_features(df_train)\n",
    "    return df_train\n",
    "\n",
    "def prepare_X_1(df): \n",
    "    X = df[[k for k, v in cfg.input_columns_params.items()]]\n",
    "    X = feature_engineer_train(X)\n",
    "    # Convert real numbers for catboost \n",
    "    for i in [k for k, v in cfg.input_columns_params.items() if v == 'cat']: \n",
    "        X[i] = X[i].apply(lambda i: str(i))\n",
    "        \n",
    "    return X "
   ]
  },
  {
   "cell_type": "code",
   "execution_count": 6,
   "id": "3c5755b3",
   "metadata": {
    "execution": {
     "iopub.execute_input": "2024-06-26T22:13:46.740426Z",
     "iopub.status.busy": "2024-06-26T22:13:46.739951Z",
     "iopub.status.idle": "2024-06-26T22:13:47.908065Z",
     "shell.execute_reply": "2024-06-26T22:13:47.906306Z"
    },
    "papermill": {
     "duration": 1.178193,
     "end_time": "2024-06-26T22:13:47.911782",
     "exception": false,
     "start_time": "2024-06-26T22:13:46.733589",
     "status": "completed"
    },
    "tags": []
   },
   "outputs": [],
   "source": [
    "X = prepare_X_1(df)\n",
    "y = df[[k for k, v in cfg.output_columns_params.items()]]\n",
    "\n",
    "test_X = prepare_X_1(test_df)"
   ]
  },
  {
   "cell_type": "markdown",
   "id": "d7801366",
   "metadata": {
    "papermill": {
     "duration": 0.00517,
     "end_time": "2024-06-26T22:13:47.922919",
     "exception": false,
     "start_time": "2024-06-26T22:13:47.917749",
     "status": "completed"
    },
    "tags": []
   },
   "source": [
    "# LGBoost & Optuna"
   ]
  },
  {
   "cell_type": "code",
   "execution_count": 7,
   "id": "d483d72b",
   "metadata": {
    "execution": {
     "iopub.execute_input": "2024-06-26T22:13:47.936483Z",
     "iopub.status.busy": "2024-06-26T22:13:47.936003Z",
     "iopub.status.idle": "2024-06-26T22:13:55.428641Z",
     "shell.execute_reply": "2024-06-26T22:13:55.427251Z"
    },
    "papermill": {
     "duration": 7.5022,
     "end_time": "2024-06-26T22:13:55.431301",
     "exception": false,
     "start_time": "2024-06-26T22:13:47.929101",
     "status": "completed"
    },
    "tags": []
   },
   "outputs": [
    {
     "name": "stderr",
     "output_type": "stream",
     "text": [
      "100%|██████████| 76518/76518 [00:00<00:00, 205609.09it/s]\n"
     ]
    }
   ],
   "source": [
    "from sklearn.preprocessing import OneHotEncoder\n",
    "from tqdm import tqdm \n",
    "\n",
    "tqdm.pandas() \n",
    "\n",
    "class prepare_X_2(): \n",
    "    def __init__(self): \n",
    "        self.encoders = dict()\n",
    "        \n",
    "        \n",
    "    def one_hot_encode_column(self, df, col_name):\n",
    "        \"\"\"\n",
    "        One-hot encodes the specified column in the given DataFrame.\n",
    "\n",
    "        Parameters:\n",
    "        df (pd.DataFrame): The input DataFrame.\n",
    "        col_name (str): The name of the column to one-hot encode.\n",
    "\n",
    "        Returns:\n",
    "        pd.DataFrame: The DataFrame with the specified column one-hot encoded.\n",
    "        \"\"\"\n",
    "        df = df.copy()\n",
    "        # Initialize new the OneHotEncoder\n",
    "        encoder = OneHotEncoder(sparse_output=False, drop='if_binary', handle_unknown ='ignore')  # drop='first' to avoid multicollinearity\n",
    "\n",
    "        # Fit and transform the specified column\n",
    "        encoded_col = encoder.fit(df[[col_name]])\n",
    "        self.encoders[col_name] = encoder\n",
    "        \n",
    "        return f\"{col_name} encoder succesfully fitted\"\n",
    "    \n",
    "    def fit(self, X): \n",
    "        for i in [k for k, v in cfg.input_columns_params.items() if v == 'cat']: \n",
    "            self.one_hot_encode_column(df = X, col_name = i)\n",
    "        return X \n",
    "    \n",
    "    def __call__(self, X): \n",
    "        df = X.copy()\n",
    "        for col_name in [k for k, v in cfg.input_columns_params.items() if v == 'cat']:\n",
    "            \n",
    "            encoder = self.encoders[col_name]\n",
    "            encoded_col = encoder.transform(df[[col_name]])\n",
    "            # Create a DataFrame with the encoded columns\n",
    "            encoded_df = pd.DataFrame(encoded_col, columns=encoder.get_feature_names_out([col_name]), index=df.index)\n",
    "\n",
    "            # Drop the original column and concatenate the encoded columns\n",
    "            df = df.drop(columns=[col_name])\n",
    "            df = pd.concat([df, encoded_df], axis=1)\n",
    "            \n",
    "        return df \n",
    "    \n",
    "    def __str__(self): \n",
    "        return \", \".join([k for k, v in self.encoders.items()])\n",
    "\n",
    "# train Encoders \n",
    "prep2 = prepare_X_2() \n",
    "prep2.fit(pd.concat([X, test_X]))\n",
    "\n",
    "X = prep2(X)\n",
    "\n",
    "y_uniques = y['Target'].unique()    \n",
    "y['Target'] = y['Target'].progress_apply(lambda x: [i for i, v in enumerate(y_uniques) if x == v][0])"
   ]
  },
  {
   "cell_type": "code",
   "execution_count": 8,
   "id": "bd03b6a0",
   "metadata": {
    "execution": {
     "iopub.execute_input": "2024-06-26T22:13:55.444953Z",
     "iopub.status.busy": "2024-06-26T22:13:55.444517Z",
     "iopub.status.idle": "2024-06-27T02:21:15.831535Z",
     "shell.execute_reply": "2024-06-27T02:21:15.830186Z"
    },
    "papermill": {
     "duration": 14840.416708,
     "end_time": "2024-06-27T02:21:15.853725",
     "exception": false,
     "start_time": "2024-06-26T22:13:55.437017",
     "status": "completed"
    },
    "tags": []
   },
   "outputs": [
    {
     "name": "stderr",
     "output_type": "stream",
     "text": [
      "[I 2024-06-26 22:13:55,458] A new study created in memory with name: no-name-0f74b218-a069-444b-8cc9-065df070d230\n",
      "[I 2024-06-26 22:16:04,275] Trial 0 finished with value: 0.8302359770077847 and parameters: {'n_estimators': 1983, 'learning_rate': 0.06841194422189252, 'feature_fraction': 0.294567215984854, 'lambda_l1': 9.404722733540604, 'lambda_l2': 0.39147652766979935, 'num_leaves': 693, 'max_depth': 7, 'colsample_bytree': 0.9300541459289974, 'min_child_samples': 75, 'min_sum_hessian_in_leaf': 7.869769381738899, 'min_gain_to_split': 0.8954280328950703, 'max_bin': 171, 'top_rate': 0.8792450719592502}. Best is trial 0 with value: 0.8302359770077847.\n"
     ]
    },
    {
     "name": "stdout",
     "output_type": "stream",
     "text": [
      "Model accuracy: 0.8302359770077847\n"
     ]
    },
    {
     "name": "stderr",
     "output_type": "stream",
     "text": [
      "[I 2024-06-26 22:19:24,482] Trial 1 finished with value: 0.8314121776770953 and parameters: {'n_estimators': 1152, 'learning_rate': 0.07291289866405354, 'feature_fraction': 0.23026797149078115, 'lambda_l1': 9.751173382601966, 'lambda_l2': 1.5996227479926013, 'num_leaves': 833, 'max_depth': 9, 'colsample_bytree': 0.7511728039843475, 'min_child_samples': 54, 'min_sum_hessian_in_leaf': 9.833001164222404, 'min_gain_to_split': 0.7081363233863014, 'max_bin': 217, 'top_rate': 0.5144648038188016}. Best is trial 1 with value: 0.8314121776770953.\n"
     ]
    },
    {
     "name": "stdout",
     "output_type": "stream",
     "text": [
      "Model accuracy: 0.8314121776770953\n"
     ]
    },
    {
     "name": "stderr",
     "output_type": "stream",
     "text": [
      "[I 2024-06-26 22:22:53,364] Trial 2 finished with value: 0.8308110563443616 and parameters: {'n_estimators': 1313, 'learning_rate': 0.07735076333375954, 'feature_fraction': 0.8411830508858471, 'lambda_l1': 8.609254642676742, 'lambda_l2': 0.7788436987087267, 'num_leaves': 641, 'max_depth': 10, 'colsample_bytree': 0.6067731951924904, 'min_child_samples': 84, 'min_sum_hessian_in_leaf': 5.452427540279352, 'min_gain_to_split': 0.6012977656840507, 'max_bin': 223, 'top_rate': 0.8240614493739813}. Best is trial 1 with value: 0.8314121776770953.\n"
     ]
    },
    {
     "name": "stdout",
     "output_type": "stream",
     "text": [
      "Model accuracy: 0.8308110563443616\n"
     ]
    },
    {
     "name": "stderr",
     "output_type": "stream",
     "text": [
      "[I 2024-06-26 22:27:24,357] Trial 3 finished with value: 0.8313207208701086 and parameters: {'n_estimators': 1683, 'learning_rate': 0.058660373997873536, 'feature_fraction': 0.21528021186751067, 'lambda_l1': 6.230617038518401, 'lambda_l2': 2.346510748030942, 'num_leaves': 807, 'max_depth': 8, 'colsample_bytree': 0.9348066870660885, 'min_child_samples': 100, 'min_sum_hessian_in_leaf': 8.43772513372463, 'min_gain_to_split': 0.7132306340565993, 'max_bin': 150, 'top_rate': 0.7293684189049567}. Best is trial 1 with value: 0.8314121776770953.\n"
     ]
    },
    {
     "name": "stdout",
     "output_type": "stream",
     "text": [
      "Model accuracy: 0.8313207208701086\n"
     ]
    },
    {
     "name": "stderr",
     "output_type": "stream",
     "text": [
      "[I 2024-06-26 22:29:58,137] Trial 4 finished with value: 0.8302621125990903 and parameters: {'n_estimators': 1792, 'learning_rate': 0.09023343076000312, 'feature_fraction': 0.9552531224088641, 'lambda_l1': 3.322109864547423, 'lambda_l2': 1.314269689873529, 'num_leaves': 750, 'max_depth': 7, 'colsample_bytree': 0.874762727946955, 'min_child_samples': 71, 'min_sum_hessian_in_leaf': 6.551448242003041, 'min_gain_to_split': 0.6270557661228772, 'max_bin': 174, 'top_rate': 0.7972433051568897}. Best is trial 1 with value: 0.8314121776770953.\n"
     ]
    },
    {
     "name": "stdout",
     "output_type": "stream",
     "text": [
      "Model accuracy: 0.8302621125990903\n"
     ]
    },
    {
     "name": "stderr",
     "output_type": "stream",
     "text": [
      "[I 2024-06-26 22:34:48,827] Trial 5 finished with value: 0.8311900524780483 and parameters: {'n_estimators': 1624, 'learning_rate': 0.058241460776736476, 'feature_fraction': 0.3208835072383416, 'lambda_l1': 6.937414763219955, 'lambda_l2': 1.592548784586808, 'num_leaves': 768, 'max_depth': 8, 'colsample_bytree': 0.755219534373762, 'min_child_samples': 69, 'min_sum_hessian_in_leaf': 8.097987258515765, 'min_gain_to_split': 0.8303230786597021, 'max_bin': 168, 'top_rate': 0.6836238151866361}. Best is trial 1 with value: 0.8314121776770953.\n"
     ]
    },
    {
     "name": "stdout",
     "output_type": "stream",
     "text": [
      "Model accuracy: 0.8311900524780483\n"
     ]
    },
    {
     "name": "stderr",
     "output_type": "stream",
     "text": [
      "[I 2024-06-26 22:40:22,755] Trial 6 finished with value: 0.8321310225779646 and parameters: {'n_estimators': 1900, 'learning_rate': 0.08151117133529147, 'feature_fraction': 0.3607893089642391, 'lambda_l1': 0.3442740938311828, 'lambda_l2': 2.0174265817346786, 'num_leaves': 690, 'max_depth': 8, 'colsample_bytree': 0.6927682914813688, 'min_child_samples': 84, 'min_sum_hessian_in_leaf': 4.453842922554858, 'min_gain_to_split': 0.9413371648567874, 'max_bin': 166, 'top_rate': 0.673532143139185}. Best is trial 6 with value: 0.8321310225779646.\n"
     ]
    },
    {
     "name": "stdout",
     "output_type": "stream",
     "text": [
      "Model accuracy: 0.8321310225779646\n"
     ]
    },
    {
     "name": "stderr",
     "output_type": "stream",
     "text": [
      "[I 2024-06-26 22:43:56,092] Trial 7 finished with value: 0.8312684319249144 and parameters: {'n_estimators': 1049, 'learning_rate': 0.05491696649210867, 'feature_fraction': 0.41571581149292236, 'lambda_l1': 5.094164796088322, 'lambda_l2': 2.8738508875458493, 'num_leaves': 868, 'max_depth': 7, 'colsample_bytree': 0.6958398534771333, 'min_child_samples': 14, 'min_sum_hessian_in_leaf': 6.004031423950308, 'min_gain_to_split': 0.9336230436030721, 'max_bin': 251, 'top_rate': 0.6755481451734092}. Best is trial 6 with value: 0.8321310225779646.\n"
     ]
    },
    {
     "name": "stdout",
     "output_type": "stream",
     "text": [
      "Model accuracy: 0.8312684319249144\n"
     ]
    },
    {
     "name": "stderr",
     "output_type": "stream",
     "text": [
      "[I 2024-06-26 22:51:04,008] Trial 8 finished with value: 0.8314906015304186 and parameters: {'n_estimators': 1634, 'learning_rate': 0.013421819208922364, 'feature_fraction': 0.3586151379568504, 'lambda_l1': 4.80768365621754, 'lambda_l2': 2.2489289367512586, 'num_leaves': 778, 'max_depth': 10, 'colsample_bytree': 0.7515496442727976, 'min_child_samples': 7, 'min_sum_hessian_in_leaf': 4.582337428582093, 'min_gain_to_split': 0.8654586334371086, 'max_bin': 231, 'top_rate': 0.7734272006647327}. Best is trial 6 with value: 0.8321310225779646.\n"
     ]
    },
    {
     "name": "stdout",
     "output_type": "stream",
     "text": [
      "Model accuracy: 0.8314906015304186\n"
     ]
    },
    {
     "name": "stderr",
     "output_type": "stream",
     "text": [
      "[I 2024-06-26 22:58:58,727] Trial 9 finished with value: 0.8308764083029746 and parameters: {'n_estimators': 1422, 'learning_rate': 0.010206528149924367, 'feature_fraction': 0.9816999695015667, 'lambda_l1': 0.9136835417943456, 'lambda_l2': 1.5192474270696383, 'num_leaves': 629, 'max_depth': 9, 'colsample_bytree': 0.5067700285687204, 'min_child_samples': 66, 'min_sum_hessian_in_leaf': 8.619443638140565, 'min_gain_to_split': 0.8077414334514667, 'max_bin': 192, 'top_rate': 0.8338525654837474}. Best is trial 6 with value: 0.8321310225779646.\n"
     ]
    },
    {
     "name": "stdout",
     "output_type": "stream",
     "text": [
      "Model accuracy: 0.8308764083029746\n"
     ]
    },
    {
     "name": "stderr",
     "output_type": "stream",
     "text": [
      "[I 2024-06-26 23:04:55,853] Trial 10 finished with value: 0.8323008287720615 and parameters: {'n_estimators': 1989, 'learning_rate': 0.0356738607013657, 'feature_fraction': 0.5770313576324284, 'lambda_l1': 0.3486696099396136, 'lambda_l2': 2.4285720768594317, 'num_leaves': 997, 'max_depth': 6, 'colsample_bytree': 0.6290151656741123, 'min_child_samples': 33, 'min_sum_hessian_in_leaf': 4.9588242047603215, 'min_gain_to_split': 0.9988138918047753, 'max_bin': 195, 'top_rate': 0.5833584713352055}. Best is trial 10 with value: 0.8323008287720615.\n"
     ]
    },
    {
     "name": "stdout",
     "output_type": "stream",
     "text": [
      "Model accuracy: 0.8323008287720615\n"
     ]
    },
    {
     "name": "stderr",
     "output_type": "stream",
     "text": [
      "[I 2024-06-26 23:11:05,490] Trial 11 finished with value: 0.8315560095094857 and parameters: {'n_estimators': 1983, 'learning_rate': 0.030707405617551045, 'feature_fraction': 0.5728109660500763, 'lambda_l1': 0.03640195350362241, 'lambda_l2': 2.304846889265767, 'num_leaves': 1018, 'max_depth': 6, 'colsample_bytree': 0.6247060911496441, 'min_child_samples': 31, 'min_sum_hessian_in_leaf': 4.053575917896637, 'min_gain_to_split': 0.9865468976920246, 'max_bin': 196, 'top_rate': 0.5745692307718184}. Best is trial 10 with value: 0.8323008287720615.\n"
     ]
    },
    {
     "name": "stdout",
     "output_type": "stream",
     "text": [
      "Model accuracy: 0.8315560095094857\n"
     ]
    },
    {
     "name": "stderr",
     "output_type": "stream",
     "text": [
      "[I 2024-06-26 23:16:44,876] Trial 12 finished with value: 0.8312946044077385 and parameters: {'n_estimators': 1840, 'learning_rate': 0.03360019693132332, 'feature_fraction': 0.5903880138326483, 'lambda_l1': 2.1401676346279146, 'lambda_l2': 2.8681114851737544, 'num_leaves': 936, 'max_depth': 6, 'colsample_bytree': 0.6314558960017407, 'min_child_samples': 40, 'min_sum_hessian_in_leaf': 5.1824762520004395, 'min_gain_to_split': 0.9868166610996801, 'max_bin': 152, 'top_rate': 0.6118519844547331}. Best is trial 10 with value: 0.8323008287720615.\n"
     ]
    },
    {
     "name": "stdout",
     "output_type": "stream",
     "text": [
      "Model accuracy: 0.8312946044077385\n"
     ]
    },
    {
     "name": "stderr",
     "output_type": "stream",
     "text": [
      "[I 2024-06-26 23:22:02,793] Trial 13 finished with value: 0.8311900688742788 and parameters: {'n_estimators': 1847, 'learning_rate': 0.09651078187941955, 'feature_fraction': 0.4713371594253482, 'lambda_l1': 1.8522684491209507, 'lambda_l2': 2.024999601356919, 'num_leaves': 1013, 'max_depth': 6, 'colsample_bytree': 0.5224370978261592, 'min_child_samples': 37, 'min_sum_hessian_in_leaf': 4.10484708890367, 'min_gain_to_split': 0.9326267585256248, 'max_bin': 185, 'top_rate': 0.6095766048061665}. Best is trial 10 with value: 0.8323008287720615.\n"
     ]
    },
    {
     "name": "stdout",
     "output_type": "stream",
     "text": [
      "Model accuracy: 0.8311900688742788\n"
     ]
    },
    {
     "name": "stderr",
     "output_type": "stream",
     "text": [
      "[I 2024-06-26 23:27:08,351] Trial 14 finished with value: 0.8309939952358567 and parameters: {'n_estimators': 1988, 'learning_rate': 0.03621420915741451, 'feature_fraction': 0.8156320295917197, 'lambda_l1': 3.0575319747001313, 'lambda_l2': 1.9636882859016718, 'num_leaves': 927, 'max_depth': 9, 'colsample_bytree': 0.8291357835515423, 'min_child_samples': 25, 'min_sum_hessian_in_leaf': 5.442809467714914, 'min_gain_to_split': 0.987891920766988, 'max_bin': 208, 'top_rate': 0.5172845227411044}. Best is trial 10 with value: 0.8323008287720615.\n"
     ]
    },
    {
     "name": "stdout",
     "output_type": "stream",
     "text": [
      "Model accuracy: 0.8309939952358567\n"
     ]
    },
    {
     "name": "stderr",
     "output_type": "stream",
     "text": [
      "[I 2024-06-26 23:31:53,029] Trial 15 finished with value: 0.8308633063485085 and parameters: {'n_estimators': 1474, 'learning_rate': 0.04575942885960939, 'feature_fraction': 0.7067382413451102, 'lambda_l1': 0.132528036763766, 'lambda_l2': 2.539987295408738, 'num_leaves': 694, 'max_depth': 7, 'colsample_bytree': 0.6839333980874523, 'min_child_samples': 53, 'min_sum_hessian_in_leaf': 7.330662532931733, 'min_gain_to_split': 0.9267361416377654, 'max_bin': 180, 'top_rate': 0.6386886058055009}. Best is trial 10 with value: 0.8323008287720615.\n"
     ]
    },
    {
     "name": "stdout",
     "output_type": "stream",
     "text": [
      "Model accuracy: 0.8308633063485085\n"
     ]
    },
    {
     "name": "stderr",
     "output_type": "stream",
     "text": [
      "[I 2024-06-26 23:38:32,495] Trial 16 finished with value: 0.8313599502177651 and parameters: {'n_estimators': 1749, 'learning_rate': 0.020503328014131905, 'feature_fraction': 0.49193092008271855, 'lambda_l1': 1.6005311822995094, 'lambda_l2': 0.937723719638174, 'num_leaves': 904, 'max_depth': 8, 'colsample_bytree': 0.5679885003335576, 'min_child_samples': 87, 'min_sum_hessian_in_leaf': 4.762356622588767, 'min_gain_to_split': 0.7645753750912392, 'max_bin': 204, 'top_rate': 0.5764632827026333}. Best is trial 10 with value: 0.8323008287720615.\n"
     ]
    },
    {
     "name": "stdout",
     "output_type": "stream",
     "text": [
      "Model accuracy: 0.8313599502177651\n"
     ]
    },
    {
     "name": "stderr",
     "output_type": "stream",
     "text": [
      "[I 2024-06-26 23:43:48,851] Trial 17 finished with value: 0.8308633200120337 and parameters: {'n_estimators': 1883, 'learning_rate': 0.08147269958066464, 'feature_fraction': 0.6740337271528192, 'lambda_l1': 3.41277254868514, 'lambda_l2': 1.9414110635677557, 'num_leaves': 703, 'max_depth': 6, 'colsample_bytree': 0.8112328869694287, 'min_child_samples': 46, 'min_sum_hessian_in_leaf': 6.170164223788808, 'min_gain_to_split': 0.8725861260544517, 'max_bin': 236, 'top_rate': 0.7100764761416382}. Best is trial 10 with value: 0.8323008287720615.\n"
     ]
    },
    {
     "name": "stdout",
     "output_type": "stream",
     "text": [
      "Model accuracy: 0.8308633200120337\n"
     ]
    },
    {
     "name": "stderr",
     "output_type": "stream",
     "text": [
      "[I 2024-06-26 23:48:45,437] Trial 18 finished with value: 0.8314383248823973 and parameters: {'n_estimators': 1541, 'learning_rate': 0.0411192950120912, 'feature_fraction': 0.510234255686502, 'lambda_l1': 1.1406255077115053, 'lambda_l2': 2.6282043872721945, 'num_leaves': 978, 'max_depth': 8, 'colsample_bytree': 0.6845610038065625, 'min_child_samples': 21, 'min_sum_hessian_in_leaf': 4.806495201608688, 'min_gain_to_split': 0.9481131844433761, 'max_bin': 163, 'top_rate': 0.5561885688769705}. Best is trial 10 with value: 0.8323008287720615.\n"
     ]
    },
    {
     "name": "stdout",
     "output_type": "stream",
     "text": [
      "Model accuracy: 0.8314383248823973\n"
     ]
    },
    {
     "name": "stderr",
     "output_type": "stream",
     "text": [
      "[I 2024-06-26 23:53:46,952] Trial 19 finished with value: 0.8310985840570653 and parameters: {'n_estimators': 1361, 'learning_rate': 0.023222513039224714, 'feature_fraction': 0.6858265577187251, 'lambda_l1': 4.459111833246622, 'lambda_l2': 0.01064778279817924, 'num_leaves': 610, 'max_depth': 7, 'colsample_bytree': 0.5790848144727594, 'min_child_samples': 97, 'min_sum_hessian_in_leaf': 6.946820088749379, 'min_gain_to_split': 0.9979270544004727, 'max_bin': 189, 'top_rate': 0.6481489957928679}. Best is trial 10 with value: 0.8323008287720615.\n"
     ]
    },
    {
     "name": "stdout",
     "output_type": "stream",
     "text": [
      "Model accuracy: 0.8310985840570653\n"
     ]
    },
    {
     "name": "stderr",
     "output_type": "stream",
     "text": [
      "[I 2024-06-27 00:06:19,665] Trial 20 finished with value: 0.8313468065895466 and parameters: {'n_estimators': 1897, 'learning_rate': 0.004838361880727275, 'feature_fraction': 0.4215538891040855, 'lambda_l1': 2.58380468582343, 'lambda_l2': 1.2259261797240268, 'num_leaves': 873, 'max_depth': 9, 'colsample_bytree': 0.9877593408261742, 'min_child_samples': 59, 'min_sum_hessian_in_leaf': 5.706933314011936, 'min_gain_to_split': 0.8926837270753369, 'max_bin': 158, 'top_rate': 0.7373944001686883}. Best is trial 10 with value: 0.8323008287720615.\n"
     ]
    },
    {
     "name": "stdout",
     "output_type": "stream",
     "text": [
      "Model accuracy: 0.8313468065895466\n"
     ]
    },
    {
     "name": "stderr",
     "output_type": "stream",
     "text": [
      "[I 2024-06-27 00:12:43,069] Trial 21 finished with value: 0.831072457347051 and parameters: {'n_estimators': 1991, 'learning_rate': 0.026372614096189087, 'feature_fraction': 0.5928310619400421, 'lambda_l1': 0.11267722701816679, 'lambda_l2': 2.2825726167402123, 'num_leaves': 1014, 'max_depth': 6, 'colsample_bytree': 0.6446542189617517, 'min_child_samples': 30, 'min_sum_hessian_in_leaf': 4.116938499005078, 'min_gain_to_split': 0.9614258679404433, 'max_bin': 198, 'top_rate': 0.5583726272286137}. Best is trial 10 with value: 0.8323008287720615.\n"
     ]
    },
    {
     "name": "stdout",
     "output_type": "stream",
     "text": [
      "Model accuracy: 0.831072457347051\n"
     ]
    },
    {
     "name": "stderr",
     "output_type": "stream",
     "text": [
      "[I 2024-06-27 00:18:09,755] Trial 22 finished with value: 0.8309809137766785 and parameters: {'n_estimators': 1909, 'learning_rate': 0.04931686466864915, 'feature_fraction': 0.5484883224022941, 'lambda_l1': 0.6053509584272201, 'lambda_l2': 1.8235763024969305, 'num_leaves': 970, 'max_depth': 6, 'colsample_bytree': 0.6575755499605406, 'min_child_samples': 34, 'min_sum_hessian_in_leaf': 4.005694246282293, 'min_gain_to_split': 0.9679508141338291, 'max_bin': 211, 'top_rate': 0.5971261739297825}. Best is trial 10 with value: 0.8323008287720615.\n"
     ]
    },
    {
     "name": "stdout",
     "output_type": "stream",
     "text": [
      "Model accuracy: 0.8309809137766785\n"
     ]
    },
    {
     "name": "stderr",
     "output_type": "stream",
     "text": [
      "[I 2024-06-27 00:23:50,497] Trial 23 finished with value: 0.8309809520345495 and parameters: {'n_estimators': 1717, 'learning_rate': 0.03222317983011557, 'feature_fraction': 0.6334488940747205, 'lambda_l1': 1.3092369945899116, 'lambda_l2': 2.580648837161475, 'num_leaves': 971, 'max_depth': 6, 'colsample_bytree': 0.5627893026470455, 'min_child_samples': 43, 'min_sum_hessian_in_leaf': 4.623431561836201, 'min_gain_to_split': 0.9098674516933039, 'max_bin': 196, 'top_rate': 0.6592930840371459}. Best is trial 10 with value: 0.8323008287720615.\n"
     ]
    },
    {
     "name": "stdout",
     "output_type": "stream",
     "text": [
      "Model accuracy: 0.8309809520345495\n"
     ]
    },
    {
     "name": "stderr",
     "output_type": "stream",
     "text": [
      "[I 2024-06-27 00:29:06,722] Trial 24 finished with value: 0.8312684346576196 and parameters: {'n_estimators': 1918, 'learning_rate': 0.06595184694324623, 'feature_fraction': 0.7693759867438663, 'lambda_l1': 0.20140569644849615, 'lambda_l2': 2.1649149704004413, 'num_leaves': 1017, 'max_depth': 7, 'colsample_bytree': 0.7043635069514809, 'min_child_samples': 22, 'min_sum_hessian_in_leaf': 4.824716178933203, 'min_gain_to_split': 0.9680547806209546, 'max_bin': 181, 'top_rate': 0.5559459117695009}. Best is trial 10 with value: 0.8323008287720615.\n"
     ]
    },
    {
     "name": "stdout",
     "output_type": "stream",
     "text": [
      "Model accuracy: 0.8312684346576196\n"
     ]
    },
    {
     "name": "stderr",
     "output_type": "stream",
     "text": [
      "[I 2024-06-27 00:34:07,857] Trial 25 finished with value: 0.8314253349688392 and parameters: {'n_estimators': 1796, 'learning_rate': 0.08629581400612643, 'feature_fraction': 0.40569796718171214, 'lambda_l1': 2.29339906659718, 'lambda_l2': 2.977963556068037, 'num_leaves': 729, 'max_depth': 6, 'colsample_bytree': 0.6143277578486415, 'min_child_samples': 47, 'min_sum_hessian_in_leaf': 5.231964163354661, 'min_gain_to_split': 0.8518000867119706, 'max_bin': 201, 'top_rate': 0.5031055473346012}. Best is trial 10 with value: 0.8323008287720615.\n"
     ]
    },
    {
     "name": "stdout",
     "output_type": "stream",
     "text": [
      "Model accuracy: 0.8314253349688392\n"
     ]
    },
    {
     "name": "stderr",
     "output_type": "stream",
     "text": [
      "[I 2024-06-27 00:39:51,916] Trial 26 finished with value: 0.8315690889191352 and parameters: {'n_estimators': 1953, 'learning_rate': 0.03923644519592602, 'feature_fraction': 0.5506569146539165, 'lambda_l1': 0.941302122293314, 'lambda_l2': 2.432396277127155, 'num_leaves': 937, 'max_depth': 8, 'colsample_bytree': 0.8014774233887861, 'min_child_samples': 14, 'min_sum_hessian_in_leaf': 4.378778924121994, 'min_gain_to_split': 0.995806767799833, 'max_bin': 178, 'top_rate': 0.6230152598047785}. Best is trial 10 with value: 0.8323008287720615.\n"
     ]
    },
    {
     "name": "stdout",
     "output_type": "stream",
     "text": [
      "Model accuracy: 0.8315690889191352\n"
     ]
    },
    {
     "name": "stderr",
     "output_type": "stream",
     "text": [
      "[I 2024-06-27 00:45:11,046] Trial 27 finished with value: 0.831908806516474 and parameters: {'n_estimators': 1559, 'learning_rate': 0.04675525265420751, 'feature_fraction': 0.46508985994686247, 'lambda_l1': 1.0504505777190665, 'lambda_l2': 1.7617006840997729, 'num_leaves': 880, 'max_depth': 8, 'colsample_bytree': 0.7801102481835978, 'min_child_samples': 5, 'min_sum_hessian_in_leaf': 6.087407797766705, 'min_gain_to_split': 0.7601885378567095, 'max_bin': 176, 'top_rate': 0.6336659632759941}. Best is trial 10 with value: 0.8323008287720615.\n"
     ]
    },
    {
     "name": "stdout",
     "output_type": "stream",
     "text": [
      "Model accuracy: 0.831908806516474\n"
     ]
    },
    {
     "name": "stderr",
     "output_type": "stream",
     "text": [
      "[I 2024-06-27 00:49:16,719] Trial 28 finished with value: 0.831503676157834 and parameters: {'n_estimators': 1221, 'learning_rate': 0.06157736645365645, 'feature_fraction': 0.3589743260770986, 'lambda_l1': 4.109453228941829, 'lambda_l2': 1.7378754012004345, 'num_leaves': 838, 'max_depth': 8, 'colsample_bytree': 0.7188214754023798, 'min_child_samples': 5, 'min_sum_hessian_in_leaf': 6.438093673125448, 'min_gain_to_split': 0.7724510997975123, 'max_bin': 169, 'top_rate': 0.702180507933169}. Best is trial 10 with value: 0.8323008287720615.\n"
     ]
    },
    {
     "name": "stdout",
     "output_type": "stream",
     "text": [
      "Model accuracy: 0.831503676157834\n"
     ]
    },
    {
     "name": "stderr",
     "output_type": "stream",
     "text": [
      "[I 2024-06-27 00:54:07,824] Trial 29 finished with value: 0.830693483758181 and parameters: {'n_estimators': 1566, 'learning_rate': 0.04422476747503484, 'feature_fraction': 0.27253445846830937, 'lambda_l1': 8.186517187702055, 'lambda_l2': 1.2801199036599278, 'num_leaves': 658, 'max_depth': 9, 'colsample_bytree': 0.8721038725841426, 'min_child_samples': 82, 'min_sum_hessian_in_leaf': 7.259997249129091, 'min_gain_to_split': 0.7216431416231481, 'max_bin': 162, 'top_rate': 0.661219366757683}. Best is trial 10 with value: 0.8323008287720615.\n"
     ]
    },
    {
     "name": "stdout",
     "output_type": "stream",
     "text": [
      "Model accuracy: 0.830693483758181\n"
     ]
    },
    {
     "name": "stderr",
     "output_type": "stream",
     "text": [
      "[I 2024-06-27 00:59:35,330] Trial 30 finished with value: 0.8309155898282923 and parameters: {'n_estimators': 1649, 'learning_rate': 0.0503775443097596, 'feature_fraction': 0.4557879615750535, 'lambda_l1': 5.56536753724384, 'lambda_l2': 2.0887972155636017, 'num_leaves': 885, 'max_depth': 10, 'colsample_bytree': 0.7793175858980157, 'min_child_samples': 60, 'min_sum_hessian_in_leaf': 5.877661960638603, 'min_gain_to_split': 0.6788393795661491, 'max_bin': 174, 'top_rate': 0.7484783083944141}. Best is trial 10 with value: 0.8323008287720615.\n"
     ]
    },
    {
     "name": "stdout",
     "output_type": "stream",
     "text": [
      "Model accuracy: 0.8309155898282923\n"
     ]
    },
    {
     "name": "stderr",
     "output_type": "stream",
     "text": [
      "[I 2024-06-27 01:05:43,944] Trial 31 finished with value: 0.8311507958033411 and parameters: {'n_estimators': 1935, 'learning_rate': 0.039897894035643235, 'feature_fraction': 0.5266347157912352, 'lambda_l1': 0.9815724988937635, 'lambda_l2': 2.5701151196891727, 'num_leaves': 941, 'max_depth': 8, 'colsample_bytree': 0.7933583853567515, 'min_child_samples': 13, 'min_sum_hessian_in_leaf': 4.403232041097478, 'min_gain_to_split': 0.7816884527798996, 'max_bin': 180, 'top_rate': 0.6320466963822021}. Best is trial 10 with value: 0.8323008287720615.\n"
     ]
    },
    {
     "name": "stdout",
     "output_type": "stream",
     "text": [
      "Model accuracy: 0.8311507958033411\n"
     ]
    },
    {
     "name": "stderr",
     "output_type": "stream",
     "text": [
      "[I 2024-06-27 01:10:35,618] Trial 32 finished with value: 0.8313991775158929 and parameters: {'n_estimators': 1785, 'learning_rate': 0.06908848943286339, 'feature_fraction': 0.6372492949636406, 'lambda_l1': 1.6136900769760323, 'lambda_l2': 2.421305699042919, 'num_leaves': 909, 'max_depth': 9, 'colsample_bytree': 0.8330863848997032, 'min_child_samples': 16, 'min_sum_hessian_in_leaf': 5.071894611572171, 'min_gain_to_split': 0.7532562219912003, 'max_bin': 175, 'top_rate': 0.6306390521610648}. Best is trial 10 with value: 0.8323008287720615.\n"
     ]
    },
    {
     "name": "stdout",
     "output_type": "stream",
     "text": [
      "Model accuracy: 0.8313991775158929\n"
     ]
    },
    {
     "name": "stderr",
     "output_type": "stream",
     "text": [
      "[I 2024-06-27 01:16:06,640] Trial 33 finished with value: 0.8320133898722726 and parameters: {'n_estimators': 1830, 'learning_rate': 0.05353769557045728, 'feature_fraction': 0.2913280156639576, 'lambda_l1': 0.7242570672452864, 'lambda_l2': 1.768634651011534, 'num_leaves': 826, 'max_depth': 8, 'colsample_bytree': 0.7256465938398309, 'min_child_samples': 10, 'min_sum_hessian_in_leaf': 5.556470769070469, 'min_gain_to_split': 0.8222940640127728, 'max_bin': 185, 'top_rate': 0.5863551238060537}. Best is trial 10 with value: 0.8323008287720615.\n"
     ]
    },
    {
     "name": "stdout",
     "output_type": "stream",
     "text": [
      "Model accuracy: 0.8320133898722726\n"
     ]
    },
    {
     "name": "stderr",
     "output_type": "stream",
     "text": [
      "[I 2024-06-27 01:20:50,117] Trial 34 finished with value: 0.8318827125989209 and parameters: {'n_estimators': 1836, 'learning_rate': 0.07387996015962722, 'feature_fraction': 0.29077416171110126, 'lambda_l1': 2.8303101882634008, 'lambda_l2': 1.7754390463144327, 'num_leaves': 817, 'max_depth': 7, 'colsample_bytree': 0.7336169986735022, 'min_child_samples': 8, 'min_sum_hessian_in_leaf': 5.615967802403821, 'min_gain_to_split': 0.8104028620127789, 'max_bin': 188, 'top_rate': 0.6041116346547206}. Best is trial 10 with value: 0.8323008287720615.\n"
     ]
    },
    {
     "name": "stdout",
     "output_type": "stream",
     "text": [
      "Model accuracy: 0.8318827125989209\n"
     ]
    },
    {
     "name": "stderr",
     "output_type": "stream",
     "text": [
      "[I 2024-06-27 01:24:27,016] Trial 35 finished with value: 0.8319479894081445 and parameters: {'n_estimators': 1732, 'learning_rate': 0.09996289202597353, 'feature_fraction': 0.24277199936361923, 'lambda_l1': 0.6386202503619882, 'lambda_l2': 0.9143035669559711, 'num_leaves': 839, 'max_depth': 8, 'colsample_bytree': 0.6711693964033685, 'min_child_samples': 26, 'min_sum_hessian_in_leaf': 9.72053886234509, 'min_gain_to_split': 0.7351437125959249, 'max_bin': 217, 'top_rate': 0.5306494033062968}. Best is trial 10 with value: 0.8323008287720615.\n"
     ]
    },
    {
     "name": "stdout",
     "output_type": "stream",
     "text": [
      "Model accuracy: 0.8319479894081445\n"
     ]
    },
    {
     "name": "stderr",
     "output_type": "stream",
     "text": [
      "[I 2024-06-27 01:29:02,229] Trial 36 finished with value: 0.831242284036436 and parameters: {'n_estimators': 1717, 'learning_rate': 0.09551161780676107, 'feature_fraction': 0.20073711784197024, 'lambda_l1': 3.8954774701544204, 'lambda_l2': 0.604840680253257, 'num_leaves': 849, 'max_depth': 9, 'colsample_bytree': 0.5962993034395789, 'min_child_samples': 25, 'min_sum_hessian_in_leaf': 9.743606519970319, 'min_gain_to_split': 0.6724426156505033, 'max_bin': 216, 'top_rate': 0.5340941160536852}. Best is trial 10 with value: 0.8323008287720615.\n"
     ]
    },
    {
     "name": "stdout",
     "output_type": "stream",
     "text": [
      "Model accuracy: 0.831242284036436\n"
     ]
    },
    {
     "name": "stderr",
     "output_type": "stream",
     "text": [
      "[I 2024-06-27 01:33:50,835] Trial 37 finished with value: 0.831791231880765 and parameters: {'n_estimators': 1766, 'learning_rate': 0.09918025776131068, 'feature_fraction': 0.33251880473050843, 'lambda_l1': 1.9332624568501915, 'lambda_l2': 1.011090832668014, 'num_leaves': 797, 'max_depth': 8, 'colsample_bytree': 0.6608164882767592, 'min_child_samples': 27, 'min_sum_hessian_in_leaf': 8.945323238339085, 'min_gain_to_split': 0.7234961074832363, 'max_bin': 223, 'top_rate': 0.5315137537279248}. Best is trial 10 with value: 0.8323008287720615.\n"
     ]
    },
    {
     "name": "stdout",
     "output_type": "stream",
     "text": [
      "Model accuracy: 0.831791231880765\n"
     ]
    },
    {
     "name": "stderr",
     "output_type": "stream",
     "text": [
      "[I 2024-06-27 01:35:40,760] Trial 38 finished with value: 0.8314514083911042 and parameters: {'n_estimators': 1862, 'learning_rate': 0.09052830908567976, 'feature_fraction': 0.2536290935766224, 'lambda_l1': 0.5590076405640896, 'lambda_l2': 1.4249834092912292, 'num_leaves': 760, 'max_depth': 7, 'colsample_bytree': 0.672039725361149, 'min_child_samples': 18, 'min_sum_hessian_in_leaf': 9.503558448099227, 'min_gain_to_split': 0.835362558980691, 'max_bin': 221, 'top_rate': 0.892660239577932}. Best is trial 10 with value: 0.8323008287720615.\n"
     ]
    },
    {
     "name": "stdout",
     "output_type": "stream",
     "text": [
      "Model accuracy: 0.8314514083911042\n"
     ]
    },
    {
     "name": "stderr",
     "output_type": "stream",
     "text": [
      "[I 2024-06-27 01:40:17,677] Trial 39 finished with value: 0.8317389914410858 and parameters: {'n_estimators': 1692, 'learning_rate': 0.07598814882906256, 'feature_fraction': 0.2408053461721504, 'lambda_l1': 7.271944131856399, 'lambda_l2': 0.2637800941785928, 'num_leaves': 728, 'max_depth': 8, 'colsample_bytree': 0.7381856945517887, 'min_child_samples': 75, 'min_sum_hessian_in_leaf': 7.682841938858344, 'min_gain_to_split': 0.673599443726064, 'max_bin': 230, 'top_rate': 0.5868280614081834}. Best is trial 10 with value: 0.8323008287720615.\n"
     ]
    },
    {
     "name": "stdout",
     "output_type": "stream",
     "text": [
      "Model accuracy: 0.8317389914410858\n"
     ]
    },
    {
     "name": "stderr",
     "output_type": "stream",
     "text": [
      "[I 2024-06-27 01:44:33,246] Trial 40 finished with value: 0.8312945681993963 and parameters: {'n_estimators': 1828, 'learning_rate': 0.08117772632573805, 'feature_fraction': 0.9151222152600018, 'lambda_l1': 0.5822562750090736, 'lambda_l2': 1.0995547143254554, 'num_leaves': 788, 'max_depth': 10, 'colsample_bytree': 0.7119089572221858, 'min_child_samples': 91, 'min_sum_hessian_in_leaf': 6.674770111865248, 'min_gain_to_split': 0.7376787004126303, 'max_bin': 207, 'top_rate': 0.5350211431977285}. Best is trial 10 with value: 0.8323008287720615.\n"
     ]
    },
    {
     "name": "stdout",
     "output_type": "stream",
     "text": [
      "Model accuracy: 0.8312945681993963\n"
     ]
    },
    {
     "name": "stderr",
     "output_type": "stream",
     "text": [
      "[I 2024-06-27 01:49:13,872] Trial 41 finished with value: 0.8320133509312252 and parameters: {'n_estimators': 1475, 'learning_rate': 0.05984215581940332, 'feature_fraction': 0.3526264445133794, 'lambda_l1': 1.3870223827132206, 'lambda_l2': 1.604822693997492, 'num_leaves': 822, 'max_depth': 8, 'colsample_bytree': 0.7491594966673693, 'min_child_samples': 11, 'min_sum_hessian_in_leaf': 6.211071674062146, 'min_gain_to_split': 0.7871571828383437, 'max_bin': 167, 'top_rate': 0.6720458719678338}. Best is trial 10 with value: 0.8323008287720615.\n"
     ]
    },
    {
     "name": "stdout",
     "output_type": "stream",
     "text": [
      "Model accuracy: 0.8320133509312252\n"
     ]
    },
    {
     "name": "stderr",
     "output_type": "stream",
     "text": [
      "[I 2024-06-27 01:53:05,639] Trial 42 finished with value: 0.830980884400099 and parameters: {'n_estimators': 1301, 'learning_rate': 0.053660556841560784, 'feature_fraction': 0.3690080800006148, 'lambda_l1': 1.4905931014336735, 'lambda_l2': 1.621130152456153, 'num_leaves': 816, 'max_depth': 8, 'colsample_bytree': 0.7626332438520382, 'min_child_samples': 9, 'min_sum_hessian_in_leaf': 5.389419202911298, 'min_gain_to_split': 0.7956045480104749, 'max_bin': 165, 'top_rate': 0.7817038138924209}. Best is trial 10 with value: 0.8323008287720615.\n"
     ]
    },
    {
     "name": "stdout",
     "output_type": "stream",
     "text": [
      "Model accuracy: 0.830980884400099\n"
     ]
    },
    {
     "name": "stderr",
     "output_type": "stream",
     "text": [
      "[I 2024-06-27 01:57:11,745] Trial 43 finished with value: 0.8317912557919342 and parameters: {'n_estimators': 1468, 'learning_rate': 0.063975066573535, 'feature_fraction': 0.27431789027285447, 'lambda_l1': 0.709359637925682, 'lambda_l2': 0.7409097029460425, 'num_leaves': 853, 'max_depth': 7, 'colsample_bytree': 0.6423729253743029, 'min_child_samples': 11, 'min_sum_hessian_in_leaf': 6.42832689672217, 'min_gain_to_split': 0.7010979417614076, 'max_bin': 155, 'top_rate': 0.6795713989148249}. Best is trial 10 with value: 0.8323008287720615.\n"
     ]
    },
    {
     "name": "stdout",
     "output_type": "stream",
     "text": [
      "Model accuracy: 0.8317912557919342\n"
     ]
    },
    {
     "name": "stderr",
     "output_type": "stream",
     "text": [
      "[I 2024-06-27 02:00:48,871] Trial 44 finished with value: 0.8320264931930913 and parameters: {'n_estimators': 1421, 'learning_rate': 0.057953873281133765, 'feature_fraction': 0.31753630759248613, 'lambda_l1': 2.284208280011752, 'lambda_l2': 1.5072458231115868, 'num_leaves': 659, 'max_depth': 9, 'colsample_bytree': 0.7292166652891867, 'min_child_samples': 18, 'min_sum_hessian_in_leaf': 5.015205954998815, 'min_gain_to_split': 0.8212703478818008, 'max_bin': 170, 'top_rate': 0.8444151796374162}. Best is trial 10 with value: 0.8323008287720615.\n"
     ]
    },
    {
     "name": "stdout",
     "output_type": "stream",
     "text": [
      "Model accuracy: 0.8320264931930913\n"
     ]
    },
    {
     "name": "stderr",
     "output_type": "stream",
     "text": [
      "[I 2024-06-27 02:04:28,182] Trial 45 finished with value: 0.8320004006418905 and parameters: {'n_estimators': 1398, 'learning_rate': 0.05876604061779741, 'feature_fraction': 0.32533621660043277, 'lambda_l1': 2.281790605267031, 'lambda_l2': 1.4223978704485631, 'num_leaves': 642, 'max_depth': 9, 'colsample_bytree': 0.7157912631959646, 'min_child_samples': 19, 'min_sum_hessian_in_leaf': 5.080038090208884, 'min_gain_to_split': 0.8816734599809319, 'max_bin': 170, 'top_rate': 0.8512958834491562}. Best is trial 10 with value: 0.8323008287720615.\n"
     ]
    },
    {
     "name": "stdout",
     "output_type": "stream",
     "text": [
      "Model accuracy: 0.8320004006418905\n"
     ]
    },
    {
     "name": "stderr",
     "output_type": "stream",
     "text": [
      "[I 2024-06-27 02:08:32,380] Trial 46 finished with value: 0.8313599481682363 and parameters: {'n_estimators': 1280, 'learning_rate': 0.07017232529225512, 'feature_fraction': 0.3818076424847414, 'lambda_l1': 3.516021665640238, 'lambda_l2': 1.6038761575799954, 'num_leaves': 683, 'max_depth': 9, 'colsample_bytree': 0.7560816261203812, 'min_child_samples': 35, 'min_sum_hessian_in_leaf': 5.758041404041142, 'min_gain_to_split': 0.8220266647330302, 'max_bin': 185, 'top_rate': 0.7200904496178635}. Best is trial 10 with value: 0.8323008287720615.\n"
     ]
    },
    {
     "name": "stdout",
     "output_type": "stream",
     "text": [
      "Model accuracy: 0.8313599481682363\n"
     ]
    },
    {
     "name": "stderr",
     "output_type": "stream",
     "text": [
      "[I 2024-06-27 02:12:08,587] Trial 47 finished with value: 0.8309809185589123 and parameters: {'n_estimators': 1075, 'learning_rate': 0.055143154518178306, 'feature_fraction': 0.412420310497508, 'lambda_l1': 1.6625736448617434, 'lambda_l2': 1.8751140112489308, 'num_leaves': 673, 'max_depth': 10, 'colsample_bytree': 0.7333566506683826, 'min_child_samples': 12, 'min_sum_hessian_in_leaf': 5.452764355368491, 'min_gain_to_split': 0.8425415235766026, 'max_bin': 159, 'top_rate': 0.8051246820331321}. Best is trial 10 with value: 0.8323008287720615.\n"
     ]
    },
    {
     "name": "stdout",
     "output_type": "stream",
     "text": [
      "Model accuracy: 0.8309809185589123\n"
     ]
    },
    {
     "name": "stderr",
     "output_type": "stream",
     "text": [
      "[I 2024-06-27 02:16:14,377] Trial 48 finished with value: 0.8310593635907001 and parameters: {'n_estimators': 1401, 'learning_rate': 0.06017922008824954, 'feature_fraction': 0.30662333395319646, 'lambda_l1': 2.6178712144014016, 'lambda_l2': 2.1607785935217323, 'num_leaves': 605, 'max_depth': 9, 'colsample_bytree': 0.6934895348382238, 'min_child_samples': 17, 'min_sum_hessian_in_leaf': 4.412812810789573, 'min_gain_to_split': 0.8583814442698061, 'max_bin': 193, 'top_rate': 0.7544821357024928}. Best is trial 10 with value: 0.8323008287720615.\n"
     ]
    },
    {
     "name": "stdout",
     "output_type": "stream",
     "text": [
      "Model accuracy: 0.8310593635907001\n"
     ]
    },
    {
     "name": "stderr",
     "output_type": "stream",
     "text": [
      "[I 2024-06-27 02:21:15,824] Trial 49 finished with value: 0.8315297960360856 and parameters: {'n_estimators': 1592, 'learning_rate': 0.0544485712171021, 'feature_fraction': 0.34282393231529995, 'lambda_l1': 0.275904688705761, 'lambda_l2': 2.7470858383952805, 'num_leaves': 629, 'max_depth': 8, 'colsample_bytree': 0.5985965514781328, 'min_child_samples': 30, 'min_sum_hessian_in_leaf': 4.9037938658417755, 'min_gain_to_split': 0.792464650238285, 'max_bin': 184, 'top_rate': 0.6867868434734641}. Best is trial 10 with value: 0.8323008287720615.\n"
     ]
    },
    {
     "name": "stdout",
     "output_type": "stream",
     "text": [
      "Model accuracy: 0.8315297960360856\n",
      "Best hyperparameters: {'n_estimators': 1989, 'learning_rate': 0.0356738607013657, 'feature_fraction': 0.5770313576324284, 'lambda_l1': 0.3486696099396136, 'lambda_l2': 2.4285720768594317, 'num_leaves': 997, 'max_depth': 6, 'colsample_bytree': 0.6290151656741123, 'min_child_samples': 33, 'min_sum_hessian_in_leaf': 4.9588242047603215, 'min_gain_to_split': 0.9988138918047753, 'max_bin': 195, 'top_rate': 0.5833584713352055}\n"
     ]
    }
   ],
   "source": [
    "def objective(trial):\n",
    "    \"\"\"\n",
    "    Past best params \n",
    "    {\n",
    "                 'objective': 'multiclass', # multiclass target: 'Graduated', 'Dropout', or 'Enrolled'\n",
    "                 'data_sample_strategy': 'goss', # Gradient-based One-Sided Sampling\n",
    "                 'tree_learner': 'feature', # split nodes based on the best feature\n",
    "                 'n_estimators': 1743, # number of boosting iterations\n",
    "                 'learning_rate': 0.02636616162598401, # step size for updatig model weights\n",
    "                 'feature_fraction': 0.298183729482288, # about 30% of features considered at each split\n",
    "                 'lambda_l1': 8.242410039948067e-07, # L1 regulation penalization - adding magnitude of weights to the loss\n",
    "                 'lambda_l2': 0.4063299210212167, # L2 regulation penalization = adding the square of weights to the loss\n",
    "                 'num_leaves': 699, # Maximum number of leaves (terminal nodes) to use\n",
    "                 'max_depth': 8, # Maximum tree depth (levels) allowed\n",
    "                 'colsample_bytree': 0.7975468653525116, # proportion of samples to randomly choose at each iteration\n",
    "                 'min_child_samples': 102, # Minimum number of samples needed per leaf\n",
    "                 'min_sum_hessian_in_leaf': 5.440582524630883, # Minimum sum of squared gradients allowed in a leaf node\n",
    "                 'min_gain_to_split': 0.7247318987185962, # Minumum gain (model score improvement) to make further leaf partitions\n",
    "                 'max_bin': 156, # Maximum numer of bins used for discretitizing features before tree splits\n",
    "                 'top_rate': 0.6132659772851583, # Top proportion of features to choose (~61%)\n",
    "                 'verbose': -1, # Turn off warnings and model logs for a cleaner look\n",
    "                 'random_state': 1,  # Random state value for repeatablity,\n",
    "                'early_stopping_rounds': 300, \n",
    "    }   \n",
    "    \n",
    "    - need to find better\n",
    "    \"\"\"\n",
    "    \n",
    "    # Suggest hyperparameters\n",
    "    param = {\n",
    "        'objective': 'multiclass',\n",
    "        'data_sample_strategy': 'goss',\n",
    "        'tree_learner': 'feature',\n",
    "        'n_estimators': trial.suggest_int('n_estimators', 1000, 2000),\n",
    "        'learning_rate': trial.suggest_float('learning_rate', 1e-3, 1e-1),\n",
    "        'feature_fraction': trial.suggest_float('feature_fraction', 0.2, 1.0),\n",
    "        'lambda_l1': trial.suggest_float('lambda_l1', 0, 10.0),\n",
    "        'lambda_l2': trial.suggest_float('lambda_l2', 0.0, 3.0),\n",
    "        'num_leaves': trial.suggest_int('num_leaves', 599, 1024),\n",
    "        'max_depth': trial.suggest_int('max_depth', 6, 10),\n",
    "        'colsample_bytree': trial.suggest_float('colsample_bytree', 0.5, 1.0),\n",
    "        'min_child_samples': trial.suggest_int('min_child_samples', 5, 100),\n",
    "        'min_sum_hessian_in_leaf': trial.suggest_float('min_sum_hessian_in_leaf', 4.0, 10.0),\n",
    "        'min_gain_to_split': trial.suggest_float('min_gain_to_split', 0.6, 1.0),\n",
    "        'max_bin': trial.suggest_int('max_bin', 150, 255),\n",
    "        'top_rate': trial.suggest_float('top_rate', 0.5, 0.9),\n",
    "        'verbose': -1,\n",
    "        'random_state': 1,\n",
    "        'early_stopping_rounds': 300\n",
    "    }\n",
    "    \n",
    "    # K-Fold Cross-Validation\n",
    "    kf = KFold(n_splits=4, shuffle=True)\n",
    "\n",
    "    acc = list() \n",
    "    for train_size, test_size in kf.split(X, y): \n",
    "        X_train, y_train  = X.iloc[train_size], y.iloc[train_size]\n",
    "        X_test, y_test = X.iloc[test_size], y.iloc[test_size]\n",
    "\n",
    "        clf = LGBMClassifier(**param)\n",
    "\n",
    "        # Train the model\n",
    "        clf.fit(X_train, y_train, eval_set=[(X_test, y_test)])\n",
    "\n",
    "        # Make predictions\n",
    "        y_pred = clf.predict(X_test)\n",
    "\n",
    "        # Evaluate the model\n",
    "        acc.append(accuracy_score(y_test, y_pred))\n",
    "        \n",
    "    accuracy = sum(acc) / len(acc)\n",
    "    print(\"Model accuracy:\", accuracy)\n",
    "\n",
    "    return accuracy\n",
    "\n",
    "# Create study\n",
    "study = optuna.create_study(direction='maximize')\n",
    "study.optimize(objective, n_trials=50)\n",
    "\n",
    "# Print best parameters\n",
    "print(\"Best hyperparameters:\", study.best_params)"
   ]
  }
 ],
 "metadata": {
  "kaggle": {
   "accelerator": "none",
   "dataSources": [
    {
     "databundleVersionId": 8710574,
     "sourceId": 73290,
     "sourceType": "competition"
    }
   ],
   "dockerImageVersionId": 30732,
   "isGpuEnabled": false,
   "isInternetEnabled": true,
   "language": "python",
   "sourceType": "notebook"
  },
  "kernelspec": {
   "display_name": "Python 3",
   "language": "python",
   "name": "python3"
  },
  "language_info": {
   "codemirror_mode": {
    "name": "ipython",
    "version": 3
   },
   "file_extension": ".py",
   "mimetype": "text/x-python",
   "name": "python",
   "nbconvert_exporter": "python",
   "pygments_lexer": "ipython3",
   "version": "3.10.13"
  },
  "papermill": {
   "default_parameters": {},
   "duration": 14859.186404,
   "end_time": "2024-06-27T02:21:16.830826",
   "environment_variables": {},
   "exception": null,
   "input_path": "__notebook__.ipynb",
   "output_path": "__notebook__.ipynb",
   "parameters": {},
   "start_time": "2024-06-26T22:13:37.644422",
   "version": "2.5.0"
  }
 },
 "nbformat": 4,
 "nbformat_minor": 5
}
